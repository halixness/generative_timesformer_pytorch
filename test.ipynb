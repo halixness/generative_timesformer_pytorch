{
 "cells": [
  {
   "cell_type": "code",
   "execution_count": 4,
   "metadata": {},
   "outputs": [],
   "source": [
    "import torch\n",
    "from timesformer_pytorch import TimeSformer\n",
    "\n",
    "model = TimeSformer(\n",
    "    dim = 32**2,\n",
    "    image_size = 224,\n",
    "    patch_size = 16,\n",
    "    num_frames = 8,\n",
    "    out_channels = 1,\n",
    "    num_target_frames = 4,\n",
    "    depth = 12,\n",
    "    heads = 8,\n",
    "    dim_head =  64,\n",
    "    attn_dropout = 0.1,\n",
    "    ff_dropout = 0.1,\n",
    "    \n",
    ")\n",
    "\n",
    "video = torch.randn(2, 8, 3, 224, 224) # (batch x frames x channels x height x width)\n",
    "pred = model(video) # (2, 4, 3, 224, 224)"
   ]
  },
  {
   "cell_type": "code",
   "execution_count": 5,
   "metadata": {},
   "outputs": [
    {
     "name": "stdout",
     "output_type": "stream",
     "text": [
      "torch.Size([2, 4, 1, 224, 224])\n"
     ]
    }
   ],
   "source": [
    "# 2 batches, 4 future frames, 14*14 patches, 16 * 16 * 3 pixels\n",
    "print(pred.shape)"
   ]
  },
  {
   "cell_type": "code",
   "execution_count": null,
   "metadata": {},
   "outputs": [],
   "source": [
    "import torch.optim as optim\n",
    "from torch import nn\n",
    "\n",
    "criterion = nn.MSELoss()\n",
    "optimizer = optim.Adam(model.parameters(), lr=1e-2)"
   ]
  },
  {
   "cell_type": "code",
   "execution_count": null,
   "metadata": {},
   "outputs": [],
   "source": [
    "losses = []\n",
    "epochs = 2\n",
    "\n",
    "for epoch in range(2):\n",
    "    \n",
    "    epoch_loss = []\n",
    "    \n",
    "    x = torch.randn(2, 8, 3, 224, 224)\n",
    "    y = torch.randn(2, 4, 3, 224, 224)\n",
    "\n",
    "    # Compute\n",
    "    y_hat = model(x)\n",
    "\n",
    "    # Loss\n",
    "    loss = criterion(y_hat, y)\n",
    "    loss.backward()\n",
    "    optimizer.step()\n",
    "\n",
    "    print(\"Loss {}\".format(loss.item()))\n"
   ]
  },
  {
   "cell_type": "code",
   "execution_count": null,
   "metadata": {},
   "outputs": [],
   "source": []
  }
 ],
 "metadata": {
  "kernelspec": {
   "display_name": "Python 3",
   "language": "python",
   "name": "python3"
  },
  "language_info": {
   "codemirror_mode": {
    "name": "ipython",
    "version": 3
   },
   "file_extension": ".py",
   "mimetype": "text/x-python",
   "name": "python",
   "nbconvert_exporter": "python",
   "pygments_lexer": "ipython3",
   "version": "3.8.5"
  }
 },
 "nbformat": 4,
 "nbformat_minor": 4
}
